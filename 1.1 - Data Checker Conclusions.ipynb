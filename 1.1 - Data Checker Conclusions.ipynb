{
 "cells": [
  {
   "cell_type": "code",
   "execution_count": null,
   "metadata": {},
   "outputs": [],
   "source": []
  },
  {
   "cell_type": "markdown",
   "metadata": {},
   "source": [
    "- There are 18 files consisting of daily, hourly, and minute Calories, Intensities, and Steps data as well as sleep logs and weight tracking\n",
    "- There are 4 Daily data, but we can simply use **dailyActivity_merged** file as it contains all the data from the other 3 files\n",
    "- There are 33 users (`Ids`) being tracked\n",
    "- For hourly files, there seems to be no issue\n",
    "- For minute files, there are Wide and Narrow version. The difference is that Wide files are storing hourly data per Id in each row with each minute data as columns. The Narrow files are storing the data per Id per minute.\n",
    "- In the minute files, there is an ISSUE of data completeness. The Narrow files starts at 12 of April and ends at 9th of May. The Wide data starts at 13th of April."
   ]
  },
  {
   "cell_type": "markdown",
   "metadata": {},
   "source": []
  }
 ],
 "metadata": {
  "language_info": {
   "name": "python"
  },
  "orig_nbformat": 4
 },
 "nbformat": 4,
 "nbformat_minor": 2
}
